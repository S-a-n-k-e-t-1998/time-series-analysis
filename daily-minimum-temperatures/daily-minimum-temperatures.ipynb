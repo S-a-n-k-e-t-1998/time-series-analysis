{
 "cells": [
  {
   "cell_type": "code",
   "execution_count": 118,
   "id": "f06be234",
   "metadata": {},
   "outputs": [],
   "source": [
    "import pandas as pd\n",
    "import datetime as dt\n",
    "import matplotlib.pyplot as plt\n",
    "import plotly.express as px\n",
    "import numpy as np"
   ]
  },
  {
   "cell_type": "markdown",
   "id": "fb1b8521",
   "metadata": {},
   "source": [
    "# Data Gathering"
   ]
  },
  {
   "cell_type": "code",
   "execution_count": 131,
   "id": "2d3de384",
   "metadata": {},
   "outputs": [],
   "source": [
    "df=pd.read_csv(r\"E:\\10.python\\Time Series\\ts_data_set\\daily-minimum-temperatures-in-me.csv\")"
   ]
  },
  {
   "cell_type": "code",
   "execution_count": 132,
   "id": "35760436",
   "metadata": {},
   "outputs": [
    {
     "name": "stdout",
     "output_type": "stream",
     "text": [
      "<class 'pandas.core.frame.DataFrame'>\n",
      "RangeIndex: 3650 entries, 0 to 3649\n",
      "Data columns (total 2 columns):\n",
      " #   Column                      Non-Null Count  Dtype \n",
      "---  ------                      --------------  ----- \n",
      " 0   Date                        3650 non-null   object\n",
      " 1   Daily minimum temperatures  3650 non-null   object\n",
      "dtypes: object(2)\n",
      "memory usage: 57.2+ KB\n"
     ]
    }
   ],
   "source": [
    "df.info()"
   ]
  },
  {
   "cell_type": "markdown",
   "id": "7a029a14",
   "metadata": {},
   "source": [
    "# Daily minimum temperatures"
   ]
  },
  {
   "cell_type": "code",
   "execution_count": null,
   "id": "8d17d93a",
   "metadata": {},
   "outputs": [],
   "source": [
    "# In this column are some noise and datatype is object"
   ]
  },
  {
   "cell_type": "code",
   "execution_count": 133,
   "id": "06d981e2",
   "metadata": {},
   "outputs": [],
   "source": [
    "def target_datatype(string):\n",
    "    if type(string)==str:\n",
    "        a=string.replace(\"?\",\"\")\n",
    "        return eval(a)\n",
    "    else:\n",
    "        return string\n",
    "df[\"Daily minimum temperatures\"]=df[\"Daily minimum temperatures\"].apply(target_datatype)"
   ]
  },
  {
   "cell_type": "code",
   "execution_count": 135,
   "id": "b146eb6a",
   "metadata": {},
   "outputs": [],
   "source": [
    "df[\"Date\"]=pd.to_datetime(df[\"Date\"])"
   ]
  },
  {
   "cell_type": "code",
   "execution_count": 136,
   "id": "351b3a26",
   "metadata": {},
   "outputs": [
    {
     "name": "stdout",
     "output_type": "stream",
     "text": [
      "<class 'pandas.core.frame.DataFrame'>\n",
      "RangeIndex: 3650 entries, 0 to 3649\n",
      "Data columns (total 2 columns):\n",
      " #   Column                      Non-Null Count  Dtype         \n",
      "---  ------                      --------------  -----         \n",
      " 0   Date                        3650 non-null   datetime64[ns]\n",
      " 1   Daily minimum temperatures  3650 non-null   float64       \n",
      "dtypes: datetime64[ns](1), float64(1)\n",
      "memory usage: 57.2 KB\n"
     ]
    }
   ],
   "source": [
    "df.info()"
   ]
  },
  {
   "cell_type": "code",
   "execution_count": null,
   "id": "ee58d514",
   "metadata": {},
   "outputs": [],
   "source": []
  },
  {
   "cell_type": "code",
   "execution_count": 137,
   "id": "7fb580b9",
   "metadata": {},
   "outputs": [],
   "source": [
    "df.set_index(\"Date\",inplace=True)"
   ]
  },
  {
   "cell_type": "markdown",
   "id": "c731e5ce",
   "metadata": {},
   "source": [
    "# converting Daily data into Monthly"
   ]
  },
  {
   "cell_type": "code",
   "execution_count": 138,
   "id": "d0a09a86",
   "metadata": {},
   "outputs": [],
   "source": [
    "df=df.resample(\"M\").mean()"
   ]
  },
  {
   "cell_type": "code",
   "execution_count": 139,
   "id": "d85c64b7",
   "metadata": {},
   "outputs": [],
   "source": [
    "df.columns=[\"Daily_minimum_temperatures\"]"
   ]
  },
  {
   "cell_type": "code",
   "execution_count": 140,
   "id": "7e0608bc",
   "metadata": {},
   "outputs": [
    {
     "data": {
      "text/html": [
       "<div>\n",
       "<style scoped>\n",
       "    .dataframe tbody tr th:only-of-type {\n",
       "        vertical-align: middle;\n",
       "    }\n",
       "\n",
       "    .dataframe tbody tr th {\n",
       "        vertical-align: top;\n",
       "    }\n",
       "\n",
       "    .dataframe thead th {\n",
       "        text-align: right;\n",
       "    }\n",
       "</style>\n",
       "<table border=\"1\" class=\"dataframe\">\n",
       "  <thead>\n",
       "    <tr style=\"text-align: right;\">\n",
       "      <th></th>\n",
       "      <th>Daily_minimum_temperatures</th>\n",
       "    </tr>\n",
       "    <tr>\n",
       "      <th>Date</th>\n",
       "      <th></th>\n",
       "    </tr>\n",
       "  </thead>\n",
       "  <tbody>\n",
       "    <tr>\n",
       "      <th>1981-01-31</th>\n",
       "      <td>17.712903</td>\n",
       "    </tr>\n",
       "    <tr>\n",
       "      <th>1981-02-28</th>\n",
       "      <td>17.678571</td>\n",
       "    </tr>\n",
       "    <tr>\n",
       "      <th>1981-03-31</th>\n",
       "      <td>13.500000</td>\n",
       "    </tr>\n",
       "    <tr>\n",
       "      <th>1981-04-30</th>\n",
       "      <td>12.356667</td>\n",
       "    </tr>\n",
       "    <tr>\n",
       "      <th>1981-05-31</th>\n",
       "      <td>9.490323</td>\n",
       "    </tr>\n",
       "    <tr>\n",
       "      <th>...</th>\n",
       "      <td>...</td>\n",
       "    </tr>\n",
       "    <tr>\n",
       "      <th>1990-08-31</th>\n",
       "      <td>7.825806</td>\n",
       "    </tr>\n",
       "    <tr>\n",
       "      <th>1990-09-30</th>\n",
       "      <td>9.166667</td>\n",
       "    </tr>\n",
       "    <tr>\n",
       "      <th>1990-10-31</th>\n",
       "      <td>11.345161</td>\n",
       "    </tr>\n",
       "    <tr>\n",
       "      <th>1990-11-30</th>\n",
       "      <td>12.656667</td>\n",
       "    </tr>\n",
       "    <tr>\n",
       "      <th>1990-12-31</th>\n",
       "      <td>14.367742</td>\n",
       "    </tr>\n",
       "  </tbody>\n",
       "</table>\n",
       "<p>120 rows × 1 columns</p>\n",
       "</div>"
      ],
      "text/plain": [
       "            Daily_minimum_temperatures\n",
       "Date                                  \n",
       "1981-01-31                   17.712903\n",
       "1981-02-28                   17.678571\n",
       "1981-03-31                   13.500000\n",
       "1981-04-30                   12.356667\n",
       "1981-05-31                    9.490323\n",
       "...                                ...\n",
       "1990-08-31                    7.825806\n",
       "1990-09-30                    9.166667\n",
       "1990-10-31                   11.345161\n",
       "1990-11-30                   12.656667\n",
       "1990-12-31                   14.367742\n",
       "\n",
       "[120 rows x 1 columns]"
      ]
     },
     "execution_count": 140,
     "metadata": {},
     "output_type": "execute_result"
    }
   ],
   "source": [
    "df"
   ]
  },
  {
   "cell_type": "markdown",
   "id": "00bfe952",
   "metadata": {},
   "source": [
    "# test_stationarity"
   ]
  },
  {
   "cell_type": "code",
   "execution_count": 141,
   "id": "a0265157",
   "metadata": {},
   "outputs": [
    {
     "name": "stdout",
     "output_type": "stream",
     "text": [
      "Pvalue :  0.3357\n",
      "ADF Statistics: -1.892\n",
      "\t: 1% -3.4936021509366793\n",
      "\t: 5% -2.8892174239808703\n",
      "\t: 10% -2.58153320754717\n"
     ]
    }
   ],
   "source": [
    "from statsmodels.tsa.stattools import adfuller\n",
    "x = df['Daily_minimum_temperatures'].values\n",
    "result = adfuller(x)\n",
    "print('Pvalue : ', round(result[1],4))\n",
    "print('ADF Statistics:', round(result[0],3))\n",
    "for key, value in result[4].items():\n",
    "    print('\\t:',key,value)"
   ]
  },
  {
   "cell_type": "code",
   "execution_count": 142,
   "id": "7b678da4",
   "metadata": {},
   "outputs": [],
   "source": [
    "from statsmodels.tsa.stattools import adfuller\n",
    "def test_stationarity(timeseries, window = 12, cutoff = 0.05):\n",
    "    import matplotlib.pyplot as plt\n",
    "    #Determing rolling statistics\n",
    "    rolmean = timeseries.rolling(window).mean()\n",
    "    rolstd = timeseries.rolling(window).std()\n",
    "\n",
    "    #Plot rolling statistics:\n",
    "    fig = plt.figure(figsize=(12, 8))\n",
    "    orig = plt.plot(timeseries, color='blue',label='Original')\n",
    "    mean = plt.plot(rolmean, color='red', label='Rolling Mean')\n",
    "    std = plt.plot(rolstd, color='black', label = 'Rolling Std')\n",
    "    plt.legend(loc='best')\n",
    "    plt.title('Rolling Mean & Standard Deviation')\n",
    "    plt.show()\n",
    "    \n",
    "    #Perform Dickey-Fuller test:\n",
    "    print('Results of Dickey-Fuller Test:')\n",
    "    dftest = adfuller(timeseries, autolag='AIC', maxlag = 20 )\n",
    "    dfoutput = pd.Series(dftest[0:4], index=['Test Statistic','p-value','#Lags Used','Number of Observations Used'])\n",
    "    for key,value in dftest[4].items():\n",
    "        dfoutput['Critical Value (%s)'%key] = value\n",
    "    pvalue = dftest[1]\n",
    "    if pvalue < cutoff:\n",
    "        print('p-value = %.4f. The series is likely stationary.' % pvalue)\n",
    "    else:\n",
    "        print('p-value = %.4f. The series is likely non-stationary.' % pvalue)\n",
    "    \n",
    "    print(dfoutput)"
   ]
  },
  {
   "cell_type": "code",
   "execution_count": 143,
   "id": "c0821a65",
   "metadata": {},
   "outputs": [
    {
     "data": {
      "image/png": "[encoded data removed]",
      "text/plain": [
       "<Figure size 864x576 with 1 Axes>"
      ]
     },
     "metadata": {
      "needs_background": "light"
     },
     "output_type": "display_data"
    },
    {
     "name": "stdout",
     "output_type": "stream",
     "text": [
      "Results of Dickey-Fuller Test:\n",
      "p-value = 0.5308. The series is likely non-stationary.\n",
      "Test Statistic                  -1.505564\n",
      "p-value                          0.530757\n",
      "#Lags Used                      11.000000\n",
      "Number of Observations Used    108.000000\n",
      "Critical Value (1%)             -3.492401\n",
      "Critical Value (5%)             -2.888697\n",
      "Critical Value (10%)            -2.581255\n",
      "dtype: float64\n"
     ]
    }
   ],
   "source": [
    "test_stationarity(df[\"Daily_minimum_temperatures\"])"
   ]
  },
  {
   "cell_type": "code",
   "execution_count": 144,
   "id": "ae7fc359",
   "metadata": {},
   "outputs": [
    {
     "data": {
      "text/plain": [
       "<AxesSubplot:xlabel='Date'>"
      ]
     },
     "execution_count": 144,
     "metadata": {},
     "output_type": "execute_result"
    },
    {
     "data": {
      "image/png": "[encoded data removed]",
      "text/plain": [
       "<Figure size 432x288 with 1 Axes>"
      ]
     },
     "metadata": {
      "needs_background": "light"
     },
     "output_type": "display_data"
    }
   ],
   "source": [
    "df.plot()"
   ]
  },
  {
   "cell_type": "markdown",
   "id": "fdca788c",
   "metadata": {},
   "source": [
    "# seasonal_decompose"
   ]
  },
  {
   "cell_type": "code",
   "execution_count": 145,
   "id": "24d68319",
   "metadata": {},
   "outputs": [
    {
     "data": {
      "image/png": "[encoded data removed]",
      "text/plain": [
       "<Figure size 432x288 with 4 Axes>"
      ]
     },
     "metadata": {
      "needs_background": "light"
     },
     "output_type": "display_data"
    },
    {
     "data": {
      "image/png": "[encoded data removed]",
      "text/plain": [
       "<Figure size 864x576 with 1 Axes>"
      ]
     },
     "metadata": {
      "needs_background": "light"
     },
     "output_type": "display_data"
    },
    {
     "name": "stdout",
     "output_type": "stream",
     "text": [
      "Results of Dickey-Fuller Test:\n",
      "p-value = 0.0000. The series is likely stationary.\n",
      "Test Statistic                -7.073188e+00\n",
      "p-value                        4.877110e-10\n",
      "#Lags Used                     5.000000e+00\n",
      "Number of Observations Used    1.020000e+02\n",
      "Critical Value (1%)           -3.496149e+00\n",
      "Critical Value (5%)           -2.890321e+00\n",
      "Critical Value (10%)          -2.582122e+00\n",
      "dtype: float64\n"
     ]
    }
   ],
   "source": [
    "from statsmodels.tsa.seasonal import seasonal_decompose\n",
    "decomposition = seasonal_decompose(df['Daily_minimum_temperatures'])\n",
    "\n",
    "trend = decomposition.trend\n",
    "seasonal = decomposition.seasonal\n",
    "residual = decomposition.resid\n",
    "\n",
    "plt.subplot(411)\n",
    "plt.plot(df['Daily_minimum_temperatures'], label='Original')\n",
    "plt.legend(loc='best')\n",
    "plt.subplot(412)\n",
    "plt.plot(trend, label='Trend')\n",
    "plt.legend(loc='best')\n",
    "plt.subplot(413)\n",
    "plt.plot(seasonal, label='Seasonality')\n",
    "plt.legend(loc='best')\n",
    "plt.subplot(414)\n",
    "plt.plot(residual, label='Residuals')\n",
    "plt.legend(loc='best')\n",
    "plt.tight_layout()\n",
    "\n",
    "decomposed_log_data = residual\n",
    "decomposed_log_data.dropna(inplace=True)\n",
    "test_stationarity(decomposed_log_data)"
   ]
  },
  {
   "cell_type": "code",
   "execution_count": 146,
   "id": "5ec0050b",
   "metadata": {},
   "outputs": [
    {
     "data": {
      "image/png": "[encoded data removed]",
      "text/plain": [
       "<Figure size 864x576 with 2 Axes>"
      ]
     },
     "metadata": {
      "needs_background": "light"
     },
     "output_type": "display_data"
    }
   ],
   "source": [
    "import statsmodels.api as sm\n",
    "from statsmodels.graphics.tsaplots import plot_acf,plot_pacf\n",
    "fig = plt.figure(figsize=(12,8))\n",
    "ax1 = fig.add_subplot(221)\n",
    "fig = sm.graphics.tsa.plot_acf(df['Daily_minimum_temperatures'],lags=35,ax=ax1)\n",
    "ax2=fig.add_subplot(212)\n",
    "fig = sm.graphics.tsa.plot_pacf(df['Daily_minimum_temperatures'],lags=35,ax=ax2)"
   ]
  },
  {
   "cell_type": "code",
   "execution_count": 147,
   "id": "a77695ad",
   "metadata": {},
   "outputs": [],
   "source": [
    "# q==3 , p==2"
   ]
  },
  {
   "cell_type": "code",
   "execution_count": null,
   "id": "e929dcf4",
   "metadata": {},
   "outputs": [],
   "source": [
    "# Tuning to find best value of p,d,q"
   ]
  },
  {
   "cell_type": "code",
   "execution_count": 148,
   "id": "8ae0a9a7",
   "metadata": {},
   "outputs": [
    {
     "name": "stdout",
     "output_type": "stream",
     "text": [
      "ARIMA(2, 0, 2) RMSE=0.992\n",
      "ARIMA(2, 0, 3) RMSE=1.081\n",
      "ARIMA(2, 1, 2) RMSE=1.171\n",
      "ARIMA(2, 1, 3) RMSE=0.998\n",
      "Best ARIMA(2, 0, 2) RMSE=0.992\n"
     ]
    }
   ],
   "source": [
    "import warnings\n",
    "from math import sqrt\n",
    "from pandas import read_csv\n",
    "from pandas import datetime\n",
    "from statsmodels.tsa.arima.model import ARIMA\n",
    "from sklearn.metrics import mean_squared_error\n",
    " \n",
    "# evaluate an ARIMA model for a given order (p,d,q)\n",
    "def evaluate_arima_model(X, arima_order):\n",
    "    # prepare training dataset\n",
    "    train_size = int(len(X) * 0.66)\n",
    "    train, test = X[0:train_size], X[train_size:]\n",
    "    history = [x for x in train]\n",
    "    # make predictions\n",
    "    predictions = list()\n",
    "    for t in range(len(test)):\n",
    "        model = ARIMA(history, order=arima_order)\n",
    "        model_fit = model.fit()\n",
    "        yhat = model_fit.forecast()[0]\n",
    "        predictions.append(yhat)\n",
    "        history.append(test[t])\n",
    "    # calculate out of sample error\n",
    "    rmse = sqrt(mean_squared_error(test, predictions))\n",
    "    return rmse\n",
    " \n",
    "# evaluate combinations of p, d and q values for an ARIMA model\n",
    "def evaluate_models(dataset, p_values, d_values, q_values):\n",
    "    dataset = dataset.astype('float32')\n",
    "    best_score, best_cfg = float(\"inf\"), None\n",
    "    for p in p_values:\n",
    "        for d in d_values:\n",
    "            for q in q_values:\n",
    "                order = (p,d,q)\n",
    "                try:\n",
    "                    rmse = evaluate_arima_model(dataset, order)\n",
    "                    if rmse < best_score:\n",
    "                        best_score, best_cfg = rmse, order\n",
    "                    print('ARIMA%s RMSE=%.3f' % (order,rmse))\n",
    "                except:\n",
    "                    continue\n",
    "    print('Best ARIMA%s RMSE=%.3f' % (best_cfg, best_score))\n",
    " \n",
    "# load dataset\n",
    "def parser(x):\n",
    "    return datetime.strptime('190'+x, '%Y-%m')\n",
    "# series = read_csv('shampoo-sales.csv', header=0, index_col=0, parse_dates=True, squeeze=True, date_parser=parser)\n",
    "series= df['Daily_minimum_temperatures']\n",
    "# evaluate parameters\n",
    "p_values = range(2,3)\n",
    "d_values = range(0, 2)\n",
    "q_values = range(2, 4)\n",
    "warnings.filterwarnings(\"ignore\")\n",
    "evaluate_models(series.values, p_values, d_values, q_values)\n"
   ]
  },
  {
   "cell_type": "code",
   "execution_count": 149,
   "id": "1c426858",
   "metadata": {},
   "outputs": [],
   "source": [
    "#train test split"
   ]
  },
  {
   "cell_type": "code",
   "execution_count": 150,
   "id": "4d6c2395",
   "metadata": {
    "scrolled": true
   },
   "outputs": [
    {
     "data": {
      "application/vnd.plotly.v1+json": {
       "config": {
        "plotlyServerURL": "https://plot.ly"
       },
       "data": [
        {
         "hovertemplate": "Date=%{x}<br>Daily_minimum_temperatures=%{y}<extra></extra>",
         "legendgroup": "",
         "line": {
          "color": "#636efa",
          "dash": "solid"
         },
         "marker": {
          "symbol": "circle"
         },
         "mode": "lines",
         "name": "",
         "orientation": "v",
         "showlegend": false,
         "type": "scatter",
         "x": [
          "1981-01-31T00:00:00",
          "1981-02-28T00:00:00",
          "1981-03-31T00:00:00",
          "1981-04-30T00:00:00",
          "1981-05-31T00:00:00",
          "1981-06-30T00:00:00",
          "1981-07-31T00:00:00",
          "1981-08-31T00:00:00",
          "1981-09-30T00:00:00",
          "1981-10-31T00:00:00",
          "1981-11-30T00:00:00",
          "1981-12-31T00:00:00",
          "1982-01-31T00:00:00",
          "1982-02-28T00:00:00",
          "1982-03-31T00:00:00",
          "1982-04-30T00:00:00",
          "1982-05-31T00:00:00",
          "1982-06-30T00:00:00",
          "1982-07-31T00:00:00",
          "1982-08-31T00:00:00",
          "1982-09-30T00:00:00",
          "1982-10-31T00:00:00",
          "1982-11-30T00:00:00",
          "1982-12-31T00:00:00",
          "1983-01-31T00:00:00",
          "1983-02-28T00:00:00",
          "1983-03-31T00:00:00",
          "1983-04-30T00:00:00",
          "1983-05-31T00:00:00",
          "1983-06-30T00:00:00",
          "1983-07-31T00:00:00",
          "1983-08-31T00:00:00",
          "1983-09-30T00:00:00",
          "1983-10-31T00:00:00",
          "1983-11-30T00:00:00",
          "1983-12-31T00:00:00",
          "1984-01-31T00:00:00",
          "1984-02-29T00:00:00",
          "1984-03-31T00:00:00",
          "1984-04-30T00:00:00",
          "1984-05-31T00:00:00",
          "1984-06-30T00:00:00",
          "1984-07-31T00:00:00",
          "1984-08-31T00:00:00",
          "1984-09-30T00:00:00",
          "1984-10-31T00:00:00",
          "1984-11-30T00:00:00",
          "1984-12-31T00:00:00",
          "1985-01-31T00:00:00",
          "1985-02-28T00:00:00",
          "1985-03-31T00:00:00",
          "1985-04-30T00:00:00",
          "1985-05-31T00:00:00",
          "1985-06-30T00:00:00",
          "1985-07-31T00:00:00",
          "1985-08-31T00:00:00",
          "1985-09-30T00:00:00",
          "1985-10-31T00:00:00",
          "1985-11-30T00:00:00",
          "1985-12-31T00:00:00",
          "1986-01-31T00:00:00",
          "1986-02-28T00:00:00",
          "1986-03-31T00:00:00",
          "1986-04-30T00:00:00",
          "1986-05-31T00:00:00",
          "1986-06-30T00:00:00",
          "1986-07-31T00:00:00",
          "1986-08-31T00:00:00",
          "1986-09-30T00:00:00",
          "1986-10-31T00:00:00",
          "1986-11-30T00:00:00",
          "1986-12-31T00:00:00",
          "1987-01-31T00:00:00",
          "1987-02-28T00:00:00",
          "1987-03-31T00:00:00",
          "1987-04-30T00:00:00",
          "1987-05-31T00:00:00",
          "1987-06-30T00:00:00",
          "1987-07-31T00:00:00",
          "1987-08-31T00:00:00",
          "1987-09-30T00:00:00",
          "1987-10-31T00:00:00",
          "1987-11-30T00:00:00",
          "1987-12-31T00:00:00",
          "1988-01-31T00:00:00",
          "1988-02-29T00:00:00",
          "1988-03-31T00:00:00",
          "1988-04-30T00:00:00",
          "1988-05-31T00:00:00",
          "1988-06-30T00:00:00",
          "1988-07-31T00:00:00",
          "1988-08-31T00:00:00",
          "1988-09-30T00:00:00",
          "1988-10-31T00:00:00",
          "1988-11-30T00:00:00",
          "1988-12-31T00:00:00",
          "1989-01-31T00:00:00",
          "1989-02-28T00:00:00",
          "1989-03-31T00:00:00",
          "1989-04-30T00:00:00",
          "1989-05-31T00:00:00",
          "1989-06-30T00:00:00",
          "1989-07-31T00:00:00",
          "1989-08-31T00:00:00",
          "1989-09-30T00:00:00",
          "1989-10-31T00:00:00",
          "1989-11-30T00:00:00",
          "1989-12-31T00:00:00",
          "1990-01-31T00:00:00",
          "1990-02-28T00:00:00",
          "1990-03-31T00:00:00",
          "1990-04-30T00:00:00",
          "1990-05-31T00:00:00",
          "1990-06-30T00:00:00",
          "1990-07-31T00:00:00",
          "1990-08-31T00:00:00",
          "1990-09-30T00:00:00",
          "1990-10-31T00:00:00",
          "1990-11-30T00:00:00",
          "1990-12-31T00:00:00"
         ],
         "xaxis": "x",
         "y": [
          17.712903225806453,
          17.678571428571427,
          13.5,
          12.356666666666666,
          9.490322580645161,
          7.306666666666667,
          7.577419354838709,
          7.238709677419355,
          10.143333333333334,
          10.087096774193547,
          11.889999999999999,
          13.680645161290323,
          16.567741935483873,
          15.921428571428573,
          14.935483870967742,
          11.47,
          9.583870967741936,
          5.6066666666666665,
          4.641935483870968,
          7.903225806451613,
          7.28,
          9.54516129032258,
          12.486666666666668,
          13.754838709677419,
          13.180645161290323,
          16.807142857142857,
          15.77741935483871,
          10.596666666666666,
          10.116129032258065,
          6.6,
          6.890322580645161,
          8.706451612903225,
          9.21,
          10.312903225806451,
          11.993333333333334,
          14.396774193548387,
          14.30967741935484,
          14.944827586206896,
          12.86774193548387,
          10.75,
          8.112903225806452,
          7.73,
          5.987096774193549,
          8.696774193548388,
          8.046666666666667,
          10.63225806451613,
          12.623333333333333,
          12.643333333333334,
          14.219354838709679,
          14.032142857142857,
          15.87741935483871,
          12.976666666666667,
          9.419354838709678,
          7.073333333333333,
          6.135483870967741,
          7.635483870967741,
          8.803333333333335,
          10.490322580645161,
          13.073333333333332,
          14.109677419354838,
          13.825806451612904,
          14.196428571428571,
          14.69032258064516,
          11.653333333333334,
          10.274193548387096,
          7.526666666666667,
          6.961290322580646,
          7.387096774193548,
          8.933333333333334,
          9.683870967741935,
          11.793333333333333,
          12.935483870967742,
          13.235483870967743,
          13.889285714285714,
          12.619354838709677,
          12.25,
          9.806451612903226,
          8.273333333333333,
          5.983870967741935,
          8.02258064516129,
          9.81,
          10.238709677419354,
          13.15,
          13.254838709677419,
          16.493548387096773,
          14.524137931034483,
          14.748387096774193,
          12.833333333333334,
          11.387096774193548,
          8.386666666666667,
          8.23225806451613,
          8.725806451612904,
          9.883333333333333,
          10.890322580645162,
          12.253333333333334,
          15.436666666666667,
          15.180645161290323,
          16.37142857142857,
          15.803225806451612,
          12.563333333333333,
          10.725806451612904,
          6.5600000000000005,
          6.33225806451613,
          6.770967741935484,
          8.486666666666666,
          9.86774193548387,
          12.876666666666667,
          13.951612903225806,
          15.577419354838709,
          15.417857142857143,
          14.83548387096774,
          13.433333333333334,
          9.748387096774193,
          7.72,
          8.183870967741935,
          7.825806451612903,
          9.166666666666666,
          11.345161290322581,
          12.656666666666666,
          14.36774193548387
         ],
         "yaxis": "y"
        }
       ],
       "layout": {
        "legend": {
         "tracegroupgap": 0
        },
        "template": {
         "data": {
          "bar": [
           {
            "error_x": {
             "color": "#2a3f5f"
            },
            "error_y": {
             "color": "#2a3f5f"
            },
            "marker": {
             "line": {
              "color": "#E5ECF6",
              "width": 0.5
             },
             "pattern": {
              "fillmode": "overlay",
              "size": 10,
              "solidity": 0.2
             }
            },
            "type": "bar"
           }
          ],
          "barpolar": [
           {
            "marker": {
             "line": {
              "color": "#E5ECF6",
              "width": 0.5
             },
             "pattern": {
              "fillmode": "overlay",
              "size": 10,
              "solidity": 0.2
             }
            },
            "type": "barpolar"
           }
          ],
          "carpet": [
           {
            "aaxis": {
             "endlinecolor": "#2a3f5f",
             "gridcolor": "white",
             "linecolor": "white",
             "minorgridcolor": "white",
             "startlinecolor": "#2a3f5f"
            },
            "baxis": {
             "endlinecolor": "#2a3f5f",
             "gridcolor": "white",
             "linecolor": "white",
             "minorgridcolor": "white",
             "startlinecolor": "#2a3f5f"
            },
            "type": "carpet"
           }
          ],
          "choropleth": [
           {
            "colorbar": {
             "outlinewidth": 0,
             "ticks": ""
            },
            "type": "choropleth"
           }
          ],
          "contour": [
           {
            "colorbar": {
             "outlinewidth": 0,
             "ticks": ""
            },
            "colorscale": [
             [
              0,
              "#0d0887"
             ],
             [
              0.1111111111111111,
              "#46039f"
             ],
             [
              0.2222222222222222,
              "#7201a8"
             ],
             [
              0.3333333333333333,
              "#9c179e"
             ],
             [
              0.4444444444444444,
              "#bd3786"
             ],
             [
              0.5555555555555556,
              "#d8576b"
             ],
             [
              0.6666666666666666,
              "#ed7953"
             ],
             [
              0.7777777777777778,
              "#fb9f3a"
             ],
             [
              0.8888888888888888,
              "#fdca26"
             ],
             [
              1,
              "#f0f921"
             ]
            ],
            "type": "contour"
           }
          ],
          "contourcarpet": [
           {
            "colorbar": {
             "outlinewidth": 0,
             "ticks": ""
            },
            "type": "contourcarpet"
           }
          ],
          "heatmap": [
           {
            "colorbar": {
             "outlinewidth": 0,
             "ticks": ""
            },
            "colorscale": [
             [
              0,
              "#0d0887"
             ],
             [
              0.1111111111111111,
              "#46039f"
             ],
             [
              0.2222222222222222,
              "#7201a8"
             ],
             [
              0.3333333333333333,
              "#9c179e"
             ],
             [
              0.4444444444444444,
              "#bd3786"
             ],
             [
              0.5555555555555556,
              "#d8576b"
             ],
             [
              0.6666666666666666,
              "#ed7953"
             ],
             [
              0.7777777777777778,
              "#fb9f3a"
             ],
             [
              0.8888888888888888,
              "#fdca26"
             ],
             [
              1,
              "#f0f921"
             ]
            ],
            "type": "heatmap"
           }
          ],
          "heatmapgl": [
           {
            "colorbar": {
             "outlinewidth": 0,
             "ticks": ""
            },
            "colorscale": [
             [
              0,
              "#0d0887"
             ],
             [
              0.1111111111111111,
              "#46039f"
             ],
             [
              0.2222222222222222,
              "#7201a8"
             ],
             [
              0.3333333333333333,
              "#9c179e"
             ],
             [
              0.4444444444444444,
              "#bd3786"
             ],
             [
              0.5555555555555556,
              "#d8576b"
             ],
             [
              0.6666666666666666,
              "#ed7953"
             ],
             [
              0.7777777777777778,
              "#fb9f3a"
             ],
             [
              0.8888888888888888,
              "#fdca26"
             ],
             [
              1,
              "#f0f921"
             ]
            ],
            "type": "heatmapgl"
           }
          ],
          "histogram": [
           {
            "marker": {
             "pattern": {
              "fillmode": "overlay",
              "size": 10,
              "solidity": 0.2
             }
            },
            "type": "histogram"
           }
          ],
          "histogram2d": [
           {
            "colorbar": {
             "outlinewidth": 0,
             "ticks": ""
            },
            "colorscale": [
             [
              0,
              "#0d0887"
             ],
             [
              0.1111111111111111,
              "#46039f"
             ],
             [
              0.2222222222222222,
              "#7201a8"
             ],
             [
              0.3333333333333333,
              "#9c179e"
             ],
             [
              0.4444444444444444,
              "#bd3786"
             ],
             [
              0.5555555555555556,
              "#d8576b"
             ],
             [
              0.6666666666666666,
              "#ed7953"
             ],
             [
              0.7777777777777778,
              "#fb9f3a"
             ],
             [
              0.8888888888888888,
              "#fdca26"
             ],
             [
              1,
              "#f0f921"
             ]
            ],
            "type": "histogram2d"
           }
          ],
          "histogram2dcontour": [
           {
            "colorbar": {
             "outlinewidth": 0,
             "ticks": ""
            },
            "colorscale": [
             [
              0,
              "#0d0887"
             ],
             [
              0.1111111111111111,
              "#46039f"
             ],
             [
              0.2222222222222222,
              "#7201a8"
             ],
             [
              0.3333333333333333,
              "#9c179e"
             ],
             [
              0.4444444444444444,
              "#bd3786"
             ],
             [
              0.5555555555555556,
              "#d8576b"
             ],
             [
              0.6666666666666666,
              "#ed7953"
             ],
             [
              0.7777777777777778,
              "#fb9f3a"
             ],
             [
              0.8888888888888888,
              "#fdca26"
             ],
             [
              1,
              "#f0f921"
             ]
            ],
            "type": "histogram2dcontour"
           }
          ],
          "mesh3d": [
           {
            "colorbar": {
             "outlinewidth": 0,
             "ticks": ""
            },
            "type": "mesh3d"
           }
          ],
          "parcoords": [
           {
            "line": {
             "colorbar": {
              "outlinewidth": 0,
              "ticks": ""
             }
            },
            "type": "parcoords"
           }
          ],
          "pie": [
           {
            "automargin": true,
            "type": "pie"
           }
          ],
          "scatter": [
           {
            "fillpattern": {
             "fillmode": "overlay",
             "size": 10,
             "solidity": 0.2
            },
            "type": "scatter"
           }
          ],
          "scatter3d": [
           {
            "line": {
             "colorbar": {
              "outlinewidth": 0,
              "ticks": ""
             }
            },
            "marker": {
             "colorbar": {
              "outlinewidth": 0,
              "ticks": ""
             }
            },
            "type": "scatter3d"
           }
          ],
          "scattercarpet": [
           {
            "marker": {
             "colorbar": {
              "outlinewidth": 0,
              "ticks": ""
             }
            },
            "type": "scattercarpet"
           }
          ],
          "scattergeo": [
           {
            "marker": {
             "colorbar": {
              "outlinewidth": 0,
              "ticks": ""
             }
            },
            "type": "scattergeo"
           }
          ],
          "scattergl": [
           {
            "marker": {
             "colorbar": {
              "outlinewidth": 0,
              "ticks": ""
             }
            },
            "type": "scattergl"
           }
          ],
          "scattermapbox": [
           {
            "marker": {
             "colorbar": {
              "outlinewidth": 0,
              "ticks": ""
             }
            },
            "type": "scattermapbox"
           }
          ],
          "scatterpolar": [
           {
            "marker": {
             "colorbar": {
              "outlinewidth": 0,
              "ticks": ""
             }
            },
            "type": "scatterpolar"
           }
          ],
          "scatterpolargl": [
           {
            "marker": {
             "colorbar": {
              "outlinewidth": 0,
              "ticks": ""
             }
            },
            "type": "scatterpolargl"
           }
          ],
          "scatterternary": [
           {
            "marker": {
             "colorbar": {
              "outlinewidth": 0,
              "ticks": ""
             }
            },
            "type": "scatterternary"
           }
          ],
          "surface": [
           {
            "colorbar": {
             "outlinewidth": 0,
             "ticks": ""
            },
            "colorscale": [
             [
              0,
              "#0d0887"
             ],
             [
              0.1111111111111111,
              "#46039f"
             ],
             [
              0.2222222222222222,
              "#7201a8"
             ],
             [
              0.3333333333333333,
              "#9c179e"
             ],
             [
              0.4444444444444444,
              "#bd3786"
             ],
             [
              0.5555555555555556,
              "#d8576b"
             ],
             [
              0.6666666666666666,
              "#ed7953"
             ],
             [
              0.7777777777777778,
              "#fb9f3a"
             ],
             [
              0.8888888888888888,
              "#fdca26"
             ],
             [
              1,
              "#f0f921"
             ]
            ],
            "type": "surface"
           }
          ],
          "table": [
           {
            "cells": {
             "fill": {
              "color": "#EBF0F8"
             },
             "line": {
              "color": "white"
             }
            },
            "header": {
             "fill": {
              "color": "#C8D4E3"
             },
             "line": {
              "color": "white"
             }
            },
            "type": "table"
           }
          ]
         },
         "layout": {
          "annotationdefaults": {
           "arrowcolor": "#2a3f5f",
           "arrowhead": 0,
           "arrowwidth": 1
          },
          "autotypenumbers": "strict",
          "coloraxis": {
           "colorbar": {
            "outlinewidth": 0,
            "ticks": ""
           }
          },
          "colorscale": {
           "diverging": [
            [
             0,
             "#8e0152"
            ],
            [
             0.1,
             "#c51b7d"
            ],
            [
             0.2,
             "#de77ae"
            ],
            [
             0.3,
             "#f1b6da"
            ],
            [
             0.4,
             "#fde0ef"
            ],
            [
             0.5,
             "#f7f7f7"
            ],
            [
             0.6,
             "#e6f5d0"
            ],
            [
             0.7,
             "#b8e186"
            ],
            [
             0.8,
             "#7fbc41"
            ],
            [
             0.9,
             "#4d9221"
            ],
            [
             1,
             "#276419"
            ]
           ],
           "sequential": [
            [
             0,
             "#0d0887"
            ],
            [
             0.1111111111111111,
             "#46039f"
            ],
            [
             0.2222222222222222,
             "#7201a8"
            ],
            [
             0.3333333333333333,
             "#9c179e"
            ],
            [
             0.4444444444444444,
             "#bd3786"
            ],
            [
             0.5555555555555556,
             "#d8576b"
            ],
            [
             0.6666666666666666,
             "#ed7953"
            ],
            [
             0.7777777777777778,
             "#fb9f3a"
            ],
            [
             0.8888888888888888,
             "#fdca26"
            ],
            [
             1,
             "#f0f921"
            ]
           ],
           "sequentialminus": [
            [
             0,
             "#0d0887"
            ],
            [
             0.1111111111111111,
             "#46039f"
            ],
            [
             0.2222222222222222,
             "#7201a8"
            ],
            [
             0.3333333333333333,
             "#9c179e"
            ],
            [
             0.4444444444444444,
             "#bd3786"
            ],
            [
             0.5555555555555556,
             "#d8576b"
            ],
            [
             0.6666666666666666,
             "#ed7953"
            ],
            [
             0.7777777777777778,
             "#fb9f3a"
            ],
            [
             0.8888888888888888,
             "#fdca26"
            ],
            [
             1,
             "#f0f921"
            ]
           ]
          },
          "colorway": [
           "#636efa",
           "#EF553B",
           "#00cc96",
           "#ab63fa",
           "#FFA15A",
           "#19d3f3",
           "#FF6692",
           "#B6E880",
           "#FF97FF",
           "#FECB52"
          ],
          "font": {
           "color": "#2a3f5f"
          },
          "geo": {
           "bgcolor": "white",
           "lakecolor": "white",
           "landcolor": "#E5ECF6",
           "showlakes": true,
           "showland": true,
           "subunitcolor": "white"
          },
          "hoverlabel": {
           "align": "left"
          },
          "hovermode": "closest",
          "mapbox": {
           "style": "light"
          },
          "paper_bgcolor": "white",
          "plot_bgcolor": "#E5ECF6",
          "polar": {
           "angularaxis": {
            "gridcolor": "white",
            "linecolor": "white",
            "ticks": ""
           },
           "bgcolor": "#E5ECF6",
           "radialaxis": {
            "gridcolor": "white",
            "linecolor": "white",
            "ticks": ""
           }
          },
          "scene": {
           "xaxis": {
            "backgroundcolor": "#E5ECF6",
            "gridcolor": "white",
            "gridwidth": 2,
            "linecolor": "white",
            "showbackground": true,
            "ticks": "",
            "zerolinecolor": "white"
           },
           "yaxis": {
            "backgroundcolor": "#E5ECF6",
            "gridcolor": "white",
            "gridwidth": 2,
            "linecolor": "white",
            "showbackground": true,
            "ticks": "",
            "zerolinecolor": "white"
           },
           "zaxis": {
            "backgroundcolor": "#E5ECF6",
            "gridcolor": "white",
            "gridwidth": 2,
            "linecolor": "white",
            "showbackground": true,
            "ticks": "",
            "zerolinecolor": "white"
           }
          },
          "shapedefaults": {
           "line": {
            "color": "#2a3f5f"
           }
          },
          "ternary": {
           "aaxis": {
            "gridcolor": "white",
            "linecolor": "white",
            "ticks": ""
           },
           "baxis": {
            "gridcolor": "white",
            "linecolor": "white",
            "ticks": ""
           },
           "bgcolor": "#E5ECF6",
           "caxis": {
            "gridcolor": "white",
            "linecolor": "white",
            "ticks": ""
           }
          },
          "title": {
           "x": 0.05
          },
          "xaxis": {
           "automargin": true,
           "gridcolor": "white",
           "linecolor": "white",
           "ticks": "",
           "title": {
            "standoff": 15
           },
           "zerolinecolor": "white",
           "zerolinewidth": 2
          },
          "yaxis": {
           "automargin": true,
           "gridcolor": "white",
           "linecolor": "white",
           "ticks": "",
           "title": {
            "standoff": 15
           },
           "zerolinecolor": "white",
           "zerolinewidth": 2
          }
         }
        },
        "title": {
         "text": "Monthly Avg. Temp"
        },
        "xaxis": {
         "anchor": "y",
         "domain": [
          0,
          1
         ],
         "rangeselector": {
          "buttons": [
           {
            "count": 1,
            "label": "1y",
            "step": "year",
            "stepmode": "backward"
           },
           {
            "count": 2,
            "label": "3y",
            "step": "year",
            "stepmode": "backward"
           },
           {
            "count": 3,
            "label": "5y",
            "step": "year",
            "stepmode": "backward"
           },
           {
            "step": "all"
           }
          ]
         },
         "rangeslider": {
          "visible": true
         },
         "title": {
          "text": "Date"
         }
        },
        "yaxis": {
         "anchor": "x",
         "domain": [
          0,
          1
         ],
         "title": {
          "text": "Daily_minimum_temperatures"
         }
        }
       }
      },
      "text/html": [
       "<div>                            <div id=\"c43114ba-b14d-47db-9cdc-d8a324fb1336\" class=\"plotly-graph-div\" style=\"height:525px; width:100%;\"></div>            <script type=\"text/javascript\">                require([\"plotly\"], function(Plotly) {                    window.PLOTLYENV=window.PLOTLYENV || {};                                    if (document.getElementById(\"c43114ba-b14d-47db-9cdc-d8a324fb1336\")) {                    Plotly.newPlot(                        \"c43114ba-b14d-47db-9cdc-d8a324fb1336\",                        [{\"hovertemplate\":\"Date=%{x}<br>Daily_minimum_temperatures=%{y}<extra></extra>\",\"legendgroup\":\"\",\"line\":{\"color\":\"#636efa\",\"dash\":\"solid\"},\"marker\":{\"symbol\":\"circle\"},\"mode\":\"lines\",\"name\":\"\",\"orientation\":\"v\",\"showlegend\":false,\"x\":[\"1981-01-31T00:00:00\",\"1981-02-28T00:00:00\",\"1981-03-31T00:00:00\",\"1981-04-30T00:00:00\",\"1981-05-31T00:00:00\",\"1981-06-30T00:00:00\",\"1981-07-31T00:00:00\",\"1981-08-31T00:00:00\",\"1981-09-30T00:00:00\",\"1981-10-31T00:00:00\",\"1981-11-30T00:00:00\",\"1981-12-31T00:00:00\",\"1982-01-31T00:00:00\",\"1982-02-28T00:00:00\",\"1982-03-31T00:00:00\",\"1982-04-30T00:00:00\",\"1982-05-31T00:00:00\",\"1982-06-30T00:00:00\",\"1982-07-31T00:00:00\",\"1982-08-31T00:00:00\",\"1982-09-30T00:00:00\",\"1982-10-31T00:00:00\",\"1982-11-30T00:00:00\",\"1982-12-31T00:00:00\",\"1983-01-31T00:00:00\",\"1983-02-28T00:00:00\",\"1983-03-31T00:00:00\",\"1983-04-30T00:00:00\",\"1983-05-31T00:00:00\",\"1983-06-30T00:00:00\",\"1983-07-31T00:00:00\",\"1983-08-31T00:00:00\",\"1983-09-30T00:00:00\",\"1983-10-31T00:00:00\",\"1983-11-30T00:00:00\",\"1983-12-31T00:00:00\",\"1984-01-31T00:00:00\",\"1984-02-29T00:00:00\",\"1984-03-31T00:00:00\",\"1984-04-30T00:00:00\",\"1984-05-31T00:00:00\",\"1984-06-30T00:00:00\",\"1984-07-31T00:00:00\",\"1984-08-31T00:00:00\",\"1984-09-30T00:00:00\",\"1984-10-31T00:00:00\",\"1984-11-30T00:00:00\",\"1984-12-31T00:00:00\",\"1985-01-31T00:00:00\",\"1985-02-28T00:00:00\",\"1985-03-31T00:00:00\",\"1985-04-30T00:00:00\",\"1985-05-31T00:00:00\",\"1985-06-30T00:00:00\",\"1985-07-31T00:00:00\",\"1985-08-31T00:00:00\",\"1985-09-30T00:00:00\",\"1985-10-31T00:00:00\",\"1985-11-30T00:00:00\",\"1985-12-31T00:00:00\",\"1986-01-31T00:00:00\",\"1986-02-28T00:00:00\",\"1986-03-31T00:00:00\",\"1986-04-30T00:00:00\",\"1986-05-31T00:00:00\",\"1986-06-30T00:00:00\",\"1986-07-31T00:00:00\",\"1986-08-31T00:00:00\",\"1986-09-30T00:00:00\",\"1986-10-31T00:00:00\",\"1986-11-30T00:00:00\",\"1986-12-31T00:00:00\",\"1987-01-31T00:00:00\",\"1987-02-28T00:00:00\",\"1987-03-31T00:00:00\",\"1987-04-30T00:00:00\",\"1987-05-31T00:00:00\",\"1987-06-30T00:00:00\",\"1987-07-31T00:00:00\",\"1987-08-31T00:00:00\",\"1987-09-30T00:00:00\",\"1987-10-31T00:00:00\",\"1987-11-30T00:00:00\",\"1987-12-31T00:00:00\",\"1988-01-31T00:00:00\",\"1988-02-29T00:00:00\",\"1988-03-31T00:00:00\",\"1988-04-30T00:00:00\",\"1988-05-31T00:00:00\",\"1988-06-30T00:00:00\",\"1988-07-31T00:00:00\",\"1988-08-31T00:00:00\",\"1988-09-30T00:00:00\",\"1988-10-31T00:00:00\",\"1988-11-30T00:00:00\",\"1988-12-31T00:00:00\",\"1989-01-31T00:00:00\",\"1989-02-28T00:00:00\",\"1989-03-31T00:00:00\",\"1989-04-30T00:00:00\",\"1989-05-31T00:00:00\",\"1989-06-30T00:00:00\",\"1989-07-31T00:00:00\",\"1989-08-31T00:00:00\",\"1989-09-30T00:00:00\",\"1989-10-31T00:00:00\",\"1989-11-30T00:00:00\",\"1989-12-31T00:00:00\",\"1990-01-31T00:00:00\",\"1990-02-28T00:00:00\",\"1990-03-31T00:00:00\",\"1990-04-30T00:00:00\",\"1990-05-31T00:00:00\",\"1990-06-30T00:00:00\",\"1990-07-31T00:00:00\",\"1990-08-31T00:00:00\",\"1990-09-30T00:00:00\",\"1990-10-31T00:00:00\",\"1990-11-30T00:00:00\",\"1990-12-31T00:00:00\"],\"xaxis\":\"x\",\"y\":[17.712903225806453,17.678571428571427,13.5,12.356666666666666,9.490322580645161,7.306666666666667,7.577419354838709,7.238709677419355,10.143333333333334,10.087096774193547,11.889999999999999,13.680645161290323,16.567741935483873,15.921428571428573,14.935483870967742,11.47,9.583870967741936,5.6066666666666665,4.641935483870968,7.903225806451613,7.28,9.54516129032258,12.486666666666668,13.754838709677419,13.180645161290323,16.807142857142857,15.77741935483871,10.596666666666666,10.116129032258065,6.6,6.890322580645161,8.706451612903225,9.21,10.312903225806451,11.993333333333334,14.396774193548387,14.30967741935484,14.944827586206896,12.86774193548387,10.75,8.112903225806452,7.73,5.987096774193549,8.696774193548388,8.046666666666667,10.63225806451613,12.623333333333333,12.643333333333334,14.219354838709679,14.032142857142857,15.87741935483871,12.976666666666667,9.419354838709678,7.073333333333333,6.135483870967741,7.635483870967741,8.803333333333335,10.490322580645161,13.073333333333332,14.109677419354838,13.825806451612904,14.196428571428571,14.69032258064516,11.653333333333334,10.274193548387096,7.526666666666667,6.961290322580646,7.387096774193548,8.933333333333334,9.683870967741935,11.793333333333333,12.935483870967742,13.235483870967743,13.889285714285714,12.619354838709677,12.25,9.806451612903226,8.273333333333333,5.983870967741935,8.02258064516129,9.81,10.238709677419354,13.15,13.254838709677419,16.493548387096773,14.524137931034483,14.748387096774193,12.833333333333334,11.387096774193548,8.386666666666667,8.23225806451613,8.725806451612904,9.883333333333333,10.890322580645162,12.253333333333334,15.436666666666667,15.180645161290323,16.37142857142857,15.803225806451612,12.563333333333333,10.725806451612904,6.5600000000000005,6.33225806451613,6.770967741935484,8.486666666666666,9.86774193548387,12.876666666666667,13.951612903225806,15.577419354838709,15.417857142857143,14.83548387096774,13.433333333333334,9.748387096774193,7.72,8.183870967741935,7.825806451612903,9.166666666666666,11.345161290322581,12.656666666666666,14.36774193548387],\"yaxis\":\"y\",\"type\":\"scatter\"}],                        {\"template\":{\"data\":{\"histogram2dcontour\":[{\"type\":\"histogram2dcontour\",\"colorbar\":{\"outlinewidth\":0,\"ticks\":\"\"},\"colorscale\":[[0.0,\"#0d0887\"],[0.1111111111111111,\"#46039f\"],[0.2222222222222222,\"#7201a8\"],[0.3333333333333333,\"#9c179e\"],[0.4444444444444444,\"#bd3786\"],[0.5555555555555556,\"#d8576b\"],[0.6666666666666666,\"#ed7953\"],[0.7777777777777778,\"#fb9f3a\"],[0.8888888888888888,\"#fdca26\"],[1.0,\"#f0f921\"]]}],\"choropleth\":[{\"type\":\"choropleth\",\"colorbar\":{\"outlinewidth\":0,\"ticks\":\"\"}}],\"histogram2d\":[{\"type\":\"histogram2d\",\"colorbar\":{\"outlinewidth\":0,\"ticks\":\"\"},\"colorscale\":[[0.0,\"#0d0887\"],[0.1111111111111111,\"#46039f\"],[0.2222222222222222,\"#7201a8\"],[0.3333333333333333,\"#9c179e\"],[0.4444444444444444,\"#bd3786\"],[0.5555555555555556,\"#d8576b\"],[0.6666666666666666,\"#ed7953\"],[0.7777777777777778,\"#fb9f3a\"],[0.8888888888888888,\"#fdca26\"],[1.0,\"#f0f921\"]]}],\"heatmap\":[{\"type\":\"heatmap\",\"colorbar\":{\"outlinewidth\":0,\"ticks\":\"\"},\"colorscale\":[[0.0,\"#0d0887\"],[0.1111111111111111,\"#46039f\"],[0.2222222222222222,\"#7201a8\"],[0.3333333333333333,\"#9c179e\"],[0.4444444444444444,\"#bd3786\"],[0.5555555555555556,\"#d8576b\"],[0.6666666666666666,\"#ed7953\"],[0.7777777777777778,\"#fb9f3a\"],[0.8888888888888888,\"#fdca26\"],[1.0,\"#f0f921\"]]}],\"heatmapgl\":[{\"type\":\"heatmapgl\",\"colorbar\":{\"outlinewidth\":0,\"ticks\":\"\"},\"colorscale\":[[0.0,\"#0d0887\"],[0.1111111111111111,\"#46039f\"],[0.2222222222222222,\"#7201a8\"],[0.3333333333333333,\"#9c179e\"],[0.4444444444444444,\"#bd3786\"],[0.5555555555555556,\"#d8576b\"],[0.6666666666666666,\"#ed7953\"],[0.7777777777777778,\"#fb9f3a\"],[0.8888888888888888,\"#fdca26\"],[1.0,\"#f0f921\"]]}],\"contourcarpet\":[{\"type\":\"contourcarpet\",\"colorbar\":{\"outlinewidth\":0,\"ticks\":\"\"}}],\"contour\":[{\"type\":\"contour\",\"colorbar\":{\"outlinewidth\":0,\"ticks\":\"\"},\"colorscale\":[[0.0,\"#0d0887\"],[0.1111111111111111,\"#46039f\"],[0.2222222222222222,\"#7201a8\"],[0.3333333333333333,\"#9c179e\"],[0.4444444444444444,\"#bd3786\"],[0.5555555555555556,\"#d8576b\"],[0.6666666666666666,\"#ed7953\"],[0.7777777777777778,\"#fb9f3a\"],[0.8888888888888888,\"#fdca26\"],[1.0,\"#f0f921\"]]}],\"surface\":[{\"type\":\"surface\",\"colorbar\":{\"outlinewidth\":0,\"ticks\":\"\"},\"colorscale\":[[0.0,\"#0d0887\"],[0.1111111111111111,\"#46039f\"],[0.2222222222222222,\"#7201a8\"],[0.3333333333333333,\"#9c179e\"],[0.4444444444444444,\"#bd3786\"],[0.5555555555555556,\"#d8576b\"],[0.6666666666666666,\"#ed7953\"],[0.7777777777777778,\"#fb9f3a\"],[0.8888888888888888,\"#fdca26\"],[1.0,\"#f0f921\"]]}],\"mesh3d\":[{\"type\":\"mesh3d\",\"colorbar\":{\"outlinewidth\":0,\"ticks\":\"\"}}],\"scatter\":[{\"fillpattern\":{\"fillmode\":\"overlay\",\"size\":10,\"solidity\":0.2},\"type\":\"scatter\"}],\"parcoords\":[{\"type\":\"parcoords\",\"line\":{\"colorbar\":{\"outlinewidth\":0,\"ticks\":\"\"}}}],\"scatterpolargl\":[{\"type\":\"scatterpolargl\",\"marker\":{\"colorbar\":{\"outlinewidth\":0,\"ticks\":\"\"}}}],\"bar\":[{\"error_x\":{\"color\":\"#2a3f5f\"},\"error_y\":{\"color\":\"#2a3f5f\"},\"marker\":{\"line\":{\"color\":\"#E5ECF6\",\"width\":0.5},\"pattern\":{\"fillmode\":\"overlay\",\"size\":10,\"solidity\":0.2}},\"type\":\"bar\"}],\"scattergeo\":[{\"type\":\"scattergeo\",\"marker\":{\"colorbar\":{\"outlinewidth\":0,\"ticks\":\"\"}}}],\"scatterpolar\":[{\"type\":\"scatterpolar\",\"marker\":{\"colorbar\":{\"outlinewidth\":0,\"ticks\":\"\"}}}],\"histogram\":[{\"marker\":{\"pattern\":{\"fillmode\":\"overlay\",\"size\":10,\"solidity\":0.2}},\"type\":\"histogram\"}],\"scattergl\":[{\"type\":\"scattergl\",\"marker\":{\"colorbar\":{\"outlinewidth\":0,\"ticks\":\"\"}}}],\"scatter3d\":[{\"type\":\"scatter3d\",\"line\":{\"colorbar\":{\"outlinewidth\":0,\"ticks\":\"\"}},\"marker\":{\"colorbar\":{\"outlinewidth\":0,\"ticks\":\"\"}}}],\"scattermapbox\":[{\"type\":\"scattermapbox\",\"marker\":{\"colorbar\":{\"outlinewidth\":0,\"ticks\":\"\"}}}],\"scatterternary\":[{\"type\":\"scatterternary\",\"marker\":{\"colorbar\":{\"outlinewidth\":0,\"ticks\":\"\"}}}],\"scattercarpet\":[{\"type\":\"scattercarpet\",\"marker\":{\"colorbar\":{\"outlinewidth\":0,\"ticks\":\"\"}}}],\"carpet\":[{\"aaxis\":{\"endlinecolor\":\"#2a3f5f\",\"gridcolor\":\"white\",\"linecolor\":\"white\",\"minorgridcolor\":\"white\",\"startlinecolor\":\"#2a3f5f\"},\"baxis\":{\"endlinecolor\":\"#2a3f5f\",\"gridcolor\":\"white\",\"linecolor\":\"white\",\"minorgridcolor\":\"white\",\"startlinecolor\":\"#2a3f5f\"},\"type\":\"carpet\"}],\"table\":[{\"cells\":{\"fill\":{\"color\":\"#EBF0F8\"},\"line\":{\"color\":\"white\"}},\"header\":{\"fill\":{\"color\":\"#C8D4E3\"},\"line\":{\"color\":\"white\"}},\"type\":\"table\"}],\"barpolar\":[{\"marker\":{\"line\":{\"color\":\"#E5ECF6\",\"width\":0.5},\"pattern\":{\"fillmode\":\"overlay\",\"size\":10,\"solidity\":0.2}},\"type\":\"barpolar\"}],\"pie\":[{\"automargin\":true,\"type\":\"pie\"}]},\"layout\":{\"autotypenumbers\":\"strict\",\"colorway\":[\"#636efa\",\"#EF553B\",\"#00cc96\",\"#ab63fa\",\"#FFA15A\",\"#19d3f3\",\"#FF6692\",\"#B6E880\",\"#FF97FF\",\"#FECB52\"],\"font\":{\"color\":\"#2a3f5f\"},\"hovermode\":\"closest\",\"hoverlabel\":{\"align\":\"left\"},\"paper_bgcolor\":\"white\",\"plot_bgcolor\":\"#E5ECF6\",\"polar\":{\"bgcolor\":\"#E5ECF6\",\"angularaxis\":{\"gridcolor\":\"white\",\"linecolor\":\"white\",\"ticks\":\"\"},\"radialaxis\":{\"gridcolor\":\"white\",\"linecolor\":\"white\",\"ticks\":\"\"}},\"ternary\":{\"bgcolor\":\"#E5ECF6\",\"aaxis\":{\"gridcolor\":\"white\",\"linecolor\":\"white\",\"ticks\":\"\"},\"baxis\":{\"gridcolor\":\"white\",\"linecolor\":\"white\",\"ticks\":\"\"},\"caxis\":{\"gridcolor\":\"white\",\"linecolor\":\"white\",\"ticks\":\"\"}},\"coloraxis\":{\"colorbar\":{\"outlinewidth\":0,\"ticks\":\"\"}},\"colorscale\":{\"sequential\":[[0.0,\"#0d0887\"],[0.1111111111111111,\"#46039f\"],[0.2222222222222222,\"#7201a8\"],[0.3333333333333333,\"#9c179e\"],[0.4444444444444444,\"#bd3786\"],[0.5555555555555556,\"#d8576b\"],[0.6666666666666666,\"#ed7953\"],[0.7777777777777778,\"#fb9f3a\"],[0.8888888888888888,\"#fdca26\"],[1.0,\"#f0f921\"]],\"sequentialminus\":[[0.0,\"#0d0887\"],[0.1111111111111111,\"#46039f\"],[0.2222222222222222,\"#7201a8\"],[0.3333333333333333,\"#9c179e\"],[0.4444444444444444,\"#bd3786\"],[0.5555555555555556,\"#d8576b\"],[0.6666666666666666,\"#ed7953\"],[0.7777777777777778,\"#fb9f3a\"],[0.8888888888888888,\"#fdca26\"],[1.0,\"#f0f921\"]],\"diverging\":[[0,\"#8e0152\"],[0.1,\"#c51b7d\"],[0.2,\"#de77ae\"],[0.3,\"#f1b6da\"],[0.4,\"#fde0ef\"],[0.5,\"#f7f7f7\"],[0.6,\"#e6f5d0\"],[0.7,\"#b8e186\"],[0.8,\"#7fbc41\"],[0.9,\"#4d9221\"],[1,\"#276419\"]]},\"xaxis\":{\"gridcolor\":\"white\",\"linecolor\":\"white\",\"ticks\":\"\",\"title\":{\"standoff\":15},\"zerolinecolor\":\"white\",\"automargin\":true,\"zerolinewidth\":2},\"yaxis\":{\"gridcolor\":\"white\",\"linecolor\":\"white\",\"ticks\":\"\",\"title\":{\"standoff\":15},\"zerolinecolor\":\"white\",\"automargin\":true,\"zerolinewidth\":2},\"scene\":{\"xaxis\":{\"backgroundcolor\":\"#E5ECF6\",\"gridcolor\":\"white\",\"linecolor\":\"white\",\"showbackground\":true,\"ticks\":\"\",\"zerolinecolor\":\"white\",\"gridwidth\":2},\"yaxis\":{\"backgroundcolor\":\"#E5ECF6\",\"gridcolor\":\"white\",\"linecolor\":\"white\",\"showbackground\":true,\"ticks\":\"\",\"zerolinecolor\":\"white\",\"gridwidth\":2},\"zaxis\":{\"backgroundcolor\":\"#E5ECF6\",\"gridcolor\":\"white\",\"linecolor\":\"white\",\"showbackground\":true,\"ticks\":\"\",\"zerolinecolor\":\"white\",\"gridwidth\":2}},\"shapedefaults\":{\"line\":{\"color\":\"#2a3f5f\"}},\"annotationdefaults\":{\"arrowcolor\":\"#2a3f5f\",\"arrowhead\":0,\"arrowwidth\":1},\"geo\":{\"bgcolor\":\"white\",\"landcolor\":\"#E5ECF6\",\"subunitcolor\":\"white\",\"showland\":true,\"showlakes\":true,\"lakecolor\":\"white\"},\"title\":{\"x\":0.05},\"mapbox\":{\"style\":\"light\"}}},\"xaxis\":{\"anchor\":\"y\",\"domain\":[0.0,1.0],\"title\":{\"text\":\"Date\"},\"rangeslider\":{\"visible\":true},\"rangeselector\":{\"buttons\":[{\"count\":1,\"label\":\"1y\",\"step\":\"year\",\"stepmode\":\"backward\"},{\"count\":2,\"label\":\"3y\",\"step\":\"year\",\"stepmode\":\"backward\"},{\"count\":3,\"label\":\"5y\",\"step\":\"year\",\"stepmode\":\"backward\"},{\"step\":\"all\"}]}},\"yaxis\":{\"anchor\":\"x\",\"domain\":[0.0,1.0],\"title\":{\"text\":\"Daily_minimum_temperatures\"}},\"legend\":{\"tracegroupgap\":0},\"title\":{\"text\":\"Monthly Avg. Temp\"}},                        {\"responsive\": true}                    ).then(function(){\n",
       "                            \n",
       "var gd = document.getElementById('c43114ba-b14d-47db-9cdc-d8a324fb1336');\n",
       "var x = new MutationObserver(function (mutations, observer) {{\n",
       "        var display = window.getComputedStyle(gd).display;\n",
       "        if (!display || display === 'none') {{\n",
       "            console.log([gd, 'removed!']);\n",
       "            Plotly.purge(gd);\n",
       "            observer.disconnect();\n",
       "        }}\n",
       "}});\n",
       "\n",
       "// Listen for the removal of the full notebook cells\n",
       "var notebookContainer = gd.closest('#notebook-container');\n",
       "if (notebookContainer) {{\n",
       "    x.observe(notebookContainer, {childList: true});\n",
       "}}\n",
       "\n",
       "// Listen for the clearing of the current output cell\n",
       "var outputEl = gd.closest('.output');\n",
       "if (outputEl) {{\n",
       "    x.observe(outputEl, {childList: true});\n",
       "}}\n",
       "\n",
       "                        })                };                });            </script>        </div>"
      ]
     },
     "metadata": {},
     "output_type": "display_data"
    }
   ],
   "source": [
    "fig = px.line(df, x=df.index, y='Daily_minimum_temperatures', hover_data=['Daily_minimum_temperatures'], title='Monthly Avg. Temp')\n",
    "\n",
    "fig.update_xaxes(\n",
    "    rangeslider_visible=True,\n",
    "    rangeselector=dict(\n",
    "        buttons=list([\n",
    "            dict(count=1, label=\"1y\", step=\"year\", stepmode=\"backward\"),\n",
    "            dict(count=2, label=\"3y\", step=\"year\", stepmode=\"backward\"),\n",
    "            dict(count=3, label=\"5y\", step=\"year\", stepmode=\"backward\"),\n",
    "            dict(step=\"all\")\n",
    "        ])\n",
    "    )\n",
    ")\n",
    "fig.show()"
   ]
  },
  {
   "cell_type": "code",
   "execution_count": 151,
   "id": "e7c76ae2",
   "metadata": {},
   "outputs": [
    {
     "data": {
      "text/plain": [
       "(120, 1)"
      ]
     },
     "execution_count": 151,
     "metadata": {},
     "output_type": "execute_result"
    }
   ],
   "source": [
    "df.shape"
   ]
  },
  {
   "cell_type": "code",
   "execution_count": 152,
   "id": "2f7e9eee",
   "metadata": {},
   "outputs": [],
   "source": [
    "y_train = df['Daily_minimum_temperatures'][:90]\n",
    "y_test  = df['Daily_minimum_temperatures'][90:]"
   ]
  },
  {
   "cell_type": "markdown",
   "id": "a84600da",
   "metadata": {},
   "source": [
    "# ARIMA"
   ]
  },
  {
   "cell_type": "code",
   "execution_count": 153,
   "id": "5364cb92",
   "metadata": {},
   "outputs": [],
   "source": [
    "from statsmodels.tsa.arima.model import ARIMA\n",
    "\n",
    "model = ARIMA(y_train, order= (2,0,2))\n",
    "result_ar = model.fit()"
   ]
  },
  {
   "cell_type": "code",
   "execution_count": 154,
   "id": "3779cf5e",
   "metadata": {},
   "outputs": [
    {
     "data": {
      "text/plain": [
       "<AxesSubplot:xlabel='Date'>"
      ]
     },
     "execution_count": 154,
     "metadata": {},
     "output_type": "execute_result"
    },
    {
     "data": {
      "image/png": "[encoded data removed]",
      "text/plain": [
       "<Figure size 432x288 with 1 Axes>"
      ]
     },
     "metadata": {
      "needs_background": "light"
     },
     "output_type": "display_data"
    }
   ],
   "source": [
    "df['forecast'] = result_ar.predict(start =90, end =120 )\n",
    "df[['Daily_minimum_temperatures','forecast']].plot()"
   ]
  },
  {
   "cell_type": "code",
   "execution_count": 155,
   "id": "ecf9fc6f",
   "metadata": {},
   "outputs": [
    {
     "data": {
      "text/html": [
       "<div>\n",
       "<style scoped>\n",
       "    .dataframe tbody tr th:only-of-type {\n",
       "        vertical-align: middle;\n",
       "    }\n",
       "\n",
       "    .dataframe tbody tr th {\n",
       "        vertical-align: top;\n",
       "    }\n",
       "\n",
       "    .dataframe thead th {\n",
       "        text-align: right;\n",
       "    }\n",
       "</style>\n",
       "<table border=\"1\" class=\"dataframe\">\n",
       "  <thead>\n",
       "    <tr style=\"text-align: right;\">\n",
       "      <th></th>\n",
       "      <th>Daily_minimum_temperatures</th>\n",
       "      <th>forecast</th>\n",
       "    </tr>\n",
       "  </thead>\n",
       "  <tbody>\n",
       "    <tr>\n",
       "      <th>1981-01-31</th>\n",
       "      <td>17.712903</td>\n",
       "      <td>NaN</td>\n",
       "    </tr>\n",
       "    <tr>\n",
       "      <th>1981-02-28</th>\n",
       "      <td>17.678571</td>\n",
       "      <td>NaN</td>\n",
       "    </tr>\n",
       "    <tr>\n",
       "      <th>1981-03-31</th>\n",
       "      <td>13.5</td>\n",
       "      <td>NaN</td>\n",
       "    </tr>\n",
       "    <tr>\n",
       "      <th>1981-04-30</th>\n",
       "      <td>12.356667</td>\n",
       "      <td>NaN</td>\n",
       "    </tr>\n",
       "    <tr>\n",
       "      <th>1981-05-31</th>\n",
       "      <td>9.490323</td>\n",
       "      <td>NaN</td>\n",
       "    </tr>\n",
       "    <tr>\n",
       "      <th>...</th>\n",
       "      <td>...</td>\n",
       "      <td>...</td>\n",
       "    </tr>\n",
       "    <tr>\n",
       "      <th>1992-08-31</th>\n",
       "      <td>NaN</td>\n",
       "      <td>NaN</td>\n",
       "    </tr>\n",
       "    <tr>\n",
       "      <th>1992-09-30</th>\n",
       "      <td>NaN</td>\n",
       "      <td>NaN</td>\n",
       "    </tr>\n",
       "    <tr>\n",
       "      <th>1992-10-31</th>\n",
       "      <td>NaN</td>\n",
       "      <td>NaN</td>\n",
       "    </tr>\n",
       "    <tr>\n",
       "      <th>1992-11-30</th>\n",
       "      <td>NaN</td>\n",
       "      <td>NaN</td>\n",
       "    </tr>\n",
       "    <tr>\n",
       "      <th>1992-12-31</th>\n",
       "      <td>NaN</td>\n",
       "      <td>NaN</td>\n",
       "    </tr>\n",
       "  </tbody>\n",
       "</table>\n",
       "<p>144 rows × 2 columns</p>\n",
       "</div>"
      ],
      "text/plain": [
       "           Daily_minimum_temperatures forecast\n",
       "1981-01-31                  17.712903      NaN\n",
       "1981-02-28                  17.678571      NaN\n",
       "1981-03-31                       13.5      NaN\n",
       "1981-04-30                  12.356667      NaN\n",
       "1981-05-31                   9.490323      NaN\n",
       "...                               ...      ...\n",
       "1992-08-31                        NaN      NaN\n",
       "1992-09-30                        NaN      NaN\n",
       "1992-10-31                        NaN      NaN\n",
       "1992-11-30                        NaN      NaN\n",
       "1992-12-31                        NaN      NaN\n",
       "\n",
       "[144 rows x 2 columns]"
      ]
     },
     "execution_count": 155,
     "metadata": {},
     "output_type": "execute_result"
    }
   ],
   "source": [
    "from pandas.tseries.offsets import DateOffset\n",
    "future_dates = [df.index[-1]+ DateOffset(months=i) for i in range(25)]\n",
    "future_dates_df = pd.DataFrame(index= future_dates[1:], columns=df.columns)\n",
    "future_dataframe = pd.concat([df, future_dates_df])\n",
    "future_dataframe"
   ]
  },
  {
   "cell_type": "code",
   "execution_count": 156,
   "id": "fb533957",
   "metadata": {},
   "outputs": [
    {
     "data": {
      "text/plain": [
       "<AxesSubplot:>"
      ]
     },
     "execution_count": 156,
     "metadata": {},
     "output_type": "execute_result"
    },
    {
     "data": {
      "image/png": "[encoded data removed]",
      "text/plain": [
       "<Figure size 432x288 with 1 Axes>"
      ]
     },
     "metadata": {
      "needs_background": "light"
     },
     "output_type": "display_data"
    }
   ],
   "source": [
    "future_dataframe['forecast'] = result_ar.predict(start =110, end =180)\n",
    "future_dataframe[['Daily_minimum_temperatures','forecast']][90:].plot()"
   ]
  },
  {
   "cell_type": "code",
   "execution_count": 157,
   "id": "fa9bac44",
   "metadata": {},
   "outputs": [
    {
     "data": {
      "text/html": [
       "<div>\n",
       "<style scoped>\n",
       "    .dataframe tbody tr th:only-of-type {\n",
       "        vertical-align: middle;\n",
       "    }\n",
       "\n",
       "    .dataframe tbody tr th {\n",
       "        vertical-align: top;\n",
       "    }\n",
       "\n",
       "    .dataframe thead th {\n",
       "        text-align: right;\n",
       "    }\n",
       "</style>\n",
       "<table border=\"1\" class=\"dataframe\">\n",
       "  <thead>\n",
       "    <tr style=\"text-align: right;\">\n",
       "      <th></th>\n",
       "      <th>Daily_minimum_temperatures</th>\n",
       "      <th>forecast</th>\n",
       "    </tr>\n",
       "    <tr>\n",
       "      <th>Date</th>\n",
       "      <th></th>\n",
       "      <th></th>\n",
       "    </tr>\n",
       "  </thead>\n",
       "  <tbody>\n",
       "    <tr>\n",
       "      <th>1988-07-31</th>\n",
       "      <td>8.232258</td>\n",
       "      <td>7.439822</td>\n",
       "    </tr>\n",
       "    <tr>\n",
       "      <th>1988-08-31</th>\n",
       "      <td>8.725806</td>\n",
       "      <td>7.402234</td>\n",
       "    </tr>\n",
       "    <tr>\n",
       "      <th>1988-09-30</th>\n",
       "      <td>9.883333</td>\n",
       "      <td>8.339154</td>\n",
       "    </tr>\n",
       "    <tr>\n",
       "      <th>1988-10-31</th>\n",
       "      <td>10.890323</td>\n",
       "      <td>10.000469</td>\n",
       "    </tr>\n",
       "    <tr>\n",
       "      <th>1988-11-30</th>\n",
       "      <td>12.253333</td>\n",
       "      <td>11.943460</td>\n",
       "    </tr>\n",
       "    <tr>\n",
       "      <th>1988-12-31</th>\n",
       "      <td>15.436667</td>\n",
       "      <td>13.650784</td>\n",
       "    </tr>\n",
       "    <tr>\n",
       "      <th>1989-01-31</th>\n",
       "      <td>15.180645</td>\n",
       "      <td>14.668218</td>\n",
       "    </tr>\n",
       "    <tr>\n",
       "      <th>1989-02-28</th>\n",
       "      <td>16.371429</td>\n",
       "      <td>14.725507</td>\n",
       "    </tr>\n",
       "    <tr>\n",
       "      <th>1989-03-31</th>\n",
       "      <td>15.803226</td>\n",
       "      <td>13.808144</td>\n",
       "    </tr>\n",
       "    <tr>\n",
       "      <th>1989-04-30</th>\n",
       "      <td>12.563333</td>\n",
       "      <td>12.161038</td>\n",
       "    </tr>\n",
       "    <tr>\n",
       "      <th>1989-05-31</th>\n",
       "      <td>10.725806</td>\n",
       "      <td>10.223131</td>\n",
       "    </tr>\n",
       "    <tr>\n",
       "      <th>1989-06-30</th>\n",
       "      <td>6.560000</td>\n",
       "      <td>8.510419</td>\n",
       "    </tr>\n",
       "    <tr>\n",
       "      <th>1989-07-31</th>\n",
       "      <td>6.332258</td>\n",
       "      <td>7.478567</td>\n",
       "    </tr>\n",
       "    <tr>\n",
       "      <th>1989-08-31</th>\n",
       "      <td>6.770968</td>\n",
       "      <td>7.401675</td>\n",
       "    </tr>\n",
       "    <tr>\n",
       "      <th>1989-09-30</th>\n",
       "      <td>8.486667</td>\n",
       "      <td>8.299471</td>\n",
       "    </tr>\n",
       "    <tr>\n",
       "      <th>1989-10-31</th>\n",
       "      <td>9.867742</td>\n",
       "      <td>9.932253</td>\n",
       "    </tr>\n",
       "    <tr>\n",
       "      <th>1989-11-30</th>\n",
       "      <td>12.876667</td>\n",
       "      <td>11.864889</td>\n",
       "    </tr>\n",
       "    <tr>\n",
       "      <th>1989-12-31</th>\n",
       "      <td>13.951613</td>\n",
       "      <td>13.582777</td>\n",
       "    </tr>\n",
       "    <tr>\n",
       "      <th>1990-01-31</th>\n",
       "      <td>15.577419</td>\n",
       "      <td>14.628868</td>\n",
       "    </tr>\n",
       "    <tr>\n",
       "      <th>1990-02-28</th>\n",
       "      <td>15.417857</td>\n",
       "      <td>14.725264</td>\n",
       "    </tr>\n",
       "    <tr>\n",
       "      <th>1990-03-31</th>\n",
       "      <td>14.835484</td>\n",
       "      <td>13.847043</td>\n",
       "    </tr>\n",
       "    <tr>\n",
       "      <th>1990-04-30</th>\n",
       "      <td>13.433333</td>\n",
       "      <td>12.228696</td>\n",
       "    </tr>\n",
       "    <tr>\n",
       "      <th>1990-05-31</th>\n",
       "      <td>9.748387</td>\n",
       "      <td>10.301518</td>\n",
       "    </tr>\n",
       "    <tr>\n",
       "      <th>1990-06-30</th>\n",
       "      <td>7.720000</td>\n",
       "      <td>8.578664</td>\n",
       "    </tr>\n",
       "    <tr>\n",
       "      <th>1990-07-31</th>\n",
       "      <td>8.183871</td>\n",
       "      <td>7.518515</td>\n",
       "    </tr>\n",
       "    <tr>\n",
       "      <th>1990-08-31</th>\n",
       "      <td>7.825806</td>\n",
       "      <td>7.402715</td>\n",
       "    </tr>\n",
       "    <tr>\n",
       "      <th>1990-09-30</th>\n",
       "      <td>9.166667</td>\n",
       "      <td>8.261357</td>\n",
       "    </tr>\n",
       "    <tr>\n",
       "      <th>1990-10-31</th>\n",
       "      <td>11.345161</td>\n",
       "      <td>9.865159</td>\n",
       "    </tr>\n",
       "    <tr>\n",
       "      <th>1990-11-30</th>\n",
       "      <td>12.656667</td>\n",
       "      <td>11.786694</td>\n",
       "    </tr>\n",
       "    <tr>\n",
       "      <th>1990-12-31</th>\n",
       "      <td>14.367742</td>\n",
       "      <td>13.514302</td>\n",
       "    </tr>\n",
       "  </tbody>\n",
       "</table>\n",
       "</div>"
      ],
      "text/plain": [
       "            Daily_minimum_temperatures   forecast\n",
       "Date                                             \n",
       "1988-07-31                    8.232258   7.439822\n",
       "1988-08-31                    8.725806   7.402234\n",
       "1988-09-30                    9.883333   8.339154\n",
       "1988-10-31                   10.890323  10.000469\n",
       "1988-11-30                   12.253333  11.943460\n",
       "1988-12-31                   15.436667  13.650784\n",
       "1989-01-31                   15.180645  14.668218\n",
       "1989-02-28                   16.371429  14.725507\n",
       "1989-03-31                   15.803226  13.808144\n",
       "1989-04-30                   12.563333  12.161038\n",
       "1989-05-31                   10.725806  10.223131\n",
       "1989-06-30                    6.560000   8.510419\n",
       "1989-07-31                    6.332258   7.478567\n",
       "1989-08-31                    6.770968   7.401675\n",
       "1989-09-30                    8.486667   8.299471\n",
       "1989-10-31                    9.867742   9.932253\n",
       "1989-11-30                   12.876667  11.864889\n",
       "1989-12-31                   13.951613  13.582777\n",
       "1990-01-31                   15.577419  14.628868\n",
       "1990-02-28                   15.417857  14.725264\n",
       "1990-03-31                   14.835484  13.847043\n",
       "1990-04-30                   13.433333  12.228696\n",
       "1990-05-31                    9.748387  10.301518\n",
       "1990-06-30                    7.720000   8.578664\n",
       "1990-07-31                    8.183871   7.518515\n",
       "1990-08-31                    7.825806   7.402715\n",
       "1990-09-30                    9.166667   8.261357\n",
       "1990-10-31                   11.345161   9.865159\n",
       "1990-11-30                   12.656667  11.786694\n",
       "1990-12-31                   14.367742  13.514302"
      ]
     },
     "execution_count": 157,
     "metadata": {},
     "output_type": "execute_result"
    }
   ],
   "source": [
    "y_pred=df.dropna()\n",
    "# y_pred=y_pred[\"forecast\"]\n",
    "# y_test=y_pred[\"Daily_minimum_temperatures\"]\n",
    "y_pred"
   ]
  },
  {
   "cell_type": "code",
   "execution_count": 158,
   "id": "02241ff1",
   "metadata": {},
   "outputs": [],
   "source": [
    "def MAPE(y_test, y_pred): # mean absolute percentage error\n",
    "    y_test, y_pred = np.array(y_test), np.array(y_pred)\n",
    "    return np.mean(np.abs(y_test-y_pred)/y_test)*100"
   ]
  },
  {
   "cell_type": "code",
   "execution_count": 159,
   "id": "a065dbe7",
   "metadata": {},
   "outputs": [
    {
     "data": {
      "text/plain": [
       "8.647329529111305"
      ]
     },
     "execution_count": 159,
     "metadata": {},
     "output_type": "execute_result"
    }
   ],
   "source": [
    "MAPE(y_pred[\"Daily_minimum_temperatures\"],y_pred[\"forecast\"])"
   ]
  },
  {
   "cell_type": "code",
   "execution_count": 160,
   "id": "9724477b",
   "metadata": {},
   "outputs": [],
   "source": [
    "y_train = df['Daily_minimum_temperatures'][:90]\n",
    "y_test  = df['Daily_minimum_temperatures'][90:]"
   ]
  },
  {
   "cell_type": "code",
   "execution_count": 169,
   "id": "a1559165",
   "metadata": {},
   "outputs": [
    {
     "data": {
      "text/html": [
       "<div>\n",
       "<style scoped>\n",
       "    .dataframe tbody tr th:only-of-type {\n",
       "        vertical-align: middle;\n",
       "    }\n",
       "\n",
       "    .dataframe tbody tr th {\n",
       "        vertical-align: top;\n",
       "    }\n",
       "\n",
       "    .dataframe thead th {\n",
       "        text-align: right;\n",
       "    }\n",
       "</style>\n",
       "<table border=\"1\" class=\"dataframe\">\n",
       "  <thead>\n",
       "    <tr style=\"text-align: right;\">\n",
       "      <th></th>\n",
       "      <th>Daily_minimum_temperatures</th>\n",
       "      <th>forecast</th>\n",
       "    </tr>\n",
       "    <tr>\n",
       "      <th>Date</th>\n",
       "      <th></th>\n",
       "      <th></th>\n",
       "    </tr>\n",
       "  </thead>\n",
       "  <tbody>\n",
       "    <tr>\n",
       "      <th>1981-01-31</th>\n",
       "      <td>17.712903</td>\n",
       "      <td>NaN</td>\n",
       "    </tr>\n",
       "    <tr>\n",
       "      <th>1981-02-28</th>\n",
       "      <td>17.678571</td>\n",
       "      <td>NaN</td>\n",
       "    </tr>\n",
       "    <tr>\n",
       "      <th>1981-03-31</th>\n",
       "      <td>13.500000</td>\n",
       "      <td>NaN</td>\n",
       "    </tr>\n",
       "    <tr>\n",
       "      <th>1981-04-30</th>\n",
       "      <td>12.356667</td>\n",
       "      <td>NaN</td>\n",
       "    </tr>\n",
       "    <tr>\n",
       "      <th>1981-05-31</th>\n",
       "      <td>9.490323</td>\n",
       "      <td>NaN</td>\n",
       "    </tr>\n",
       "    <tr>\n",
       "      <th>...</th>\n",
       "      <td>...</td>\n",
       "      <td>...</td>\n",
       "    </tr>\n",
       "    <tr>\n",
       "      <th>1990-08-31</th>\n",
       "      <td>7.825806</td>\n",
       "      <td>7.402715</td>\n",
       "    </tr>\n",
       "    <tr>\n",
       "      <th>1990-09-30</th>\n",
       "      <td>9.166667</td>\n",
       "      <td>8.261357</td>\n",
       "    </tr>\n",
       "    <tr>\n",
       "      <th>1990-10-31</th>\n",
       "      <td>11.345161</td>\n",
       "      <td>9.865159</td>\n",
       "    </tr>\n",
       "    <tr>\n",
       "      <th>1990-11-30</th>\n",
       "      <td>12.656667</td>\n",
       "      <td>11.786694</td>\n",
       "    </tr>\n",
       "    <tr>\n",
       "      <th>1990-12-31</th>\n",
       "      <td>14.367742</td>\n",
       "      <td>13.514302</td>\n",
       "    </tr>\n",
       "  </tbody>\n",
       "</table>\n",
       "<p>120 rows × 2 columns</p>\n",
       "</div>"
      ],
      "text/plain": [
       "            Daily_minimum_temperatures   forecast\n",
       "Date                                             \n",
       "1981-01-31                   17.712903        NaN\n",
       "1981-02-28                   17.678571        NaN\n",
       "1981-03-31                   13.500000        NaN\n",
       "1981-04-30                   12.356667        NaN\n",
       "1981-05-31                    9.490323        NaN\n",
       "...                                ...        ...\n",
       "1990-08-31                    7.825806   7.402715\n",
       "1990-09-30                    9.166667   8.261357\n",
       "1990-10-31                   11.345161   9.865159\n",
       "1990-11-30                   12.656667  11.786694\n",
       "1990-12-31                   14.367742  13.514302\n",
       "\n",
       "[120 rows x 2 columns]"
      ]
     },
     "execution_count": 169,
     "metadata": {},
     "output_type": "execute_result"
    }
   ],
   "source": [
    "df"
   ]
  },
  {
   "cell_type": "markdown",
   "id": "dab9bc7b",
   "metadata": {},
   "source": [
    "# SARIMAX"
   ]
  },
  {
   "cell_type": "code",
   "execution_count": 170,
   "id": "5de14316",
   "metadata": {},
   "outputs": [],
   "source": [
    "from statsmodels.tsa.statespace.sarimax import SARIMAX\n",
    "\n",
    "sarima = SARIMAX(df['Daily_minimum_temperatures'], order = (2,0,2), seasonal_order=(2,0,2,12))\n",
    "result_sar = sarima.fit()"
   ]
  },
  {
   "cell_type": "code",
   "execution_count": 171,
   "id": "cf883797",
   "metadata": {},
   "outputs": [
    {
     "data": {
      "text/plain": [
       "<AxesSubplot:xlabel='Date'>"
      ]
     },
     "execution_count": 171,
     "metadata": {},
     "output_type": "execute_result"
    },
    {
     "data": {
      "image/png": "[encoded data removed]",
      "text/plain": [
       "<Figure size 432x288 with 1 Axes>"
      ]
     },
     "metadata": {
      "needs_background": "light"
     },
     "output_type": "display_data"
    }
   ],
   "source": [
    "df['forecast'] = result_sar.predict(start = 90, end = 120 )\n",
    "df[['Daily_minimum_temperatures','forecast']].plot()"
   ]
  },
  {
   "cell_type": "code",
   "execution_count": 178,
   "id": "25a4669f",
   "metadata": {},
   "outputs": [
    {
     "data": {
      "text/plain": [
       "<AxesSubplot:>"
      ]
     },
     "execution_count": 178,
     "metadata": {},
     "output_type": "execute_result"
    },
    {
     "data": {
      "image/png": "[encoded data removed]",
      "text/plain": [
       "<Figure size 432x288 with 1 Axes>"
      ]
     },
     "metadata": {
      "needs_background": "light"
     },
     "output_type": "display_data"
    }
   ],
   "source": [
    "future_dataframe['forecast'] = result_sar.predict(start = 90, end =144 )\n",
    "future_dataframe[['Daily_minimum_temperatures','forecast']].plot()"
   ]
  },
  {
   "cell_type": "code",
   "execution_count": 191,
   "id": "05607b9a",
   "metadata": {},
   "outputs": [],
   "source": [
    "y_pr=future_dataframe['forecast'][90:120]\n",
    "# y_pr"
   ]
  },
  {
   "cell_type": "code",
   "execution_count": 189,
   "id": "9a84d372",
   "metadata": {},
   "outputs": [],
   "source": [
    "ya=future_dataframe['Daily_minimum_temperatures'][90:120]"
   ]
  },
  {
   "cell_type": "code",
   "execution_count": 190,
   "id": "4ef0d8eb",
   "metadata": {},
   "outputs": [
    {
     "data": {
      "text/plain": [
       "6.041698998792263"
      ]
     },
     "execution_count": 190,
     "metadata": {},
     "output_type": "execute_result"
    }
   ],
   "source": [
    "MAPE(ya,y_pr)"
   ]
  },
  {
   "cell_type": "markdown",
   "id": "7c1a58cc",
   "metadata": {},
   "source": [
    "# Model Selection"
   ]
  },
  {
   "cell_type": "code",
   "execution_count": null,
   "id": "f9f6194b",
   "metadata": {},
   "outputs": [],
   "source": [
    "MAPE >> ASIMA   >> 8.647329529111305\n",
    "MAPE >> SARIMAX >> 6.041698998792263"
   ]
  },
  {
   "cell_type": "markdown",
   "id": "bf22fc44",
   "metadata": {},
   "source": [
    "# selected the final model is SARIMAX"
   ]
  },
  {
   "cell_type": "code",
   "execution_count": null,
   "id": "f58b3f52",
   "metadata": {},
   "outputs": [],
   "source": []
  }
 ],
 "metadata": {
  "kernelspec": {
   "display_name": "Python 3 (ipykernel)",
   "language": "python",
   "name": "python3"
  },
  "language_info": {
   "codemirror_mode": {
    "name": "ipython",
    "version": 3
   },
   "file_extension": ".py",
   "mimetype": "text/x-python",
   "name": "python",
   "nbconvert_exporter": "python",
   "pygments_lexer": "ipython3",
   "version": "3.10.1"
  }
 },
 "nbformat": 4,
 "nbformat_minor": 5
}
